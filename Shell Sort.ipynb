{
 "cells": [
  {
   "cell_type": "markdown",
   "id": "5c59999f",
   "metadata": {},
   "source": [
    "# Sort given array"
   ]
  },
  {
   "cell_type": "code",
   "execution_count": 1,
   "id": "a057255e",
   "metadata": {},
   "outputs": [],
   "source": [
    "def shell_sort(s):\n",
    "    size = len(s)\n",
    "    gap = size//2\n",
    "    \n",
    "    while gap>0:\n",
    "        \n",
    "        for i in range(gap,size):\n",
    "            \n",
    "            small_no = s[i]\n",
    "            j=i\n",
    "            \n",
    "            while j>=gap and small_no<s[j-gap]:\n",
    "                \n",
    "                s[j]=s[j-gap]\n",
    "                j-=gap\n",
    "                \n",
    "            s[j] = small_no\n",
    "            \n",
    "        gap=gap//2     \n",
    "                    "
   ]
  },
  {
   "cell_type": "code",
   "execution_count": 2,
   "id": "9ad5bc4c",
   "metadata": {},
   "outputs": [],
   "source": [
    "s = [2,4,1,7,9,5,8,6,3,10]"
   ]
  },
  {
   "cell_type": "code",
   "execution_count": 3,
   "id": "27b34c5f",
   "metadata": {},
   "outputs": [
    {
     "name": "stdout",
     "output_type": "stream",
     "text": [
      "Before Sorting- [2, 4, 1, 7, 9, 5, 8, 6, 3, 10]\n",
      "After sorting [1, 2, 3, 4, 5, 6, 7, 8, 9, 10]\n"
     ]
    }
   ],
   "source": [
    "print('Before Sorting-',s)\n",
    "shell_sort(s)\n",
    "print('After sorting',s)"
   ]
  },
  {
   "cell_type": "code",
   "execution_count": null,
   "id": "690635df",
   "metadata": {},
   "outputs": [],
   "source": []
  },
  {
   "cell_type": "markdown",
   "id": "a87e6f15",
   "metadata": {},
   "source": [
    "# 2. Sort the given array and remove duplicates"
   ]
  },
  {
   "cell_type": "code",
   "execution_count": 4,
   "id": "66469150",
   "metadata": {},
   "outputs": [],
   "source": [
    "arr = [2, 1, 5, 7, 2, 0, 5, 1, 2, 9, 5, 8, 3]"
   ]
  },
  {
   "cell_type": "code",
   "execution_count": 5,
   "id": "f801d714",
   "metadata": {},
   "outputs": [],
   "source": [
    "def sort(arr):\n",
    "    size = len(arr)\n",
    "    gap = size//2\n",
    "    \n",
    "    while gap>0:\n",
    "        \n",
    "        for i in range(gap,size):\n",
    "            small = arr[i]\n",
    "            j=i\n",
    "            \n",
    "            while j>=gap and small<arr[j-gap]:\n",
    "                arr[j]=arr[j-gap]\n",
    "                j-=gap\n",
    "            arr[j]=small\n",
    "            \n",
    "            \n",
    "        gap = gap//2\n",
    "        \n",
    "    return list(set(arr))    "
   ]
  },
  {
   "cell_type": "code",
   "execution_count": 6,
   "id": "cab49b91",
   "metadata": {},
   "outputs": [
    {
     "name": "stdout",
     "output_type": "stream",
     "text": [
      "Before Sorting [2, 1, 5, 7, 2, 0, 5, 1, 2, 9, 5, 8, 3]\n",
      "After Sorting [0, 1, 2, 3, 5, 7, 8, 9]\n"
     ]
    }
   ],
   "source": [
    "print('Before Sorting',arr)\n",
    "\n",
    "print('After Sorting',sort(arr))"
   ]
  },
  {
   "cell_type": "code",
   "execution_count": null,
   "id": "81ec021f",
   "metadata": {},
   "outputs": [],
   "source": []
  }
 ],
 "metadata": {
  "kernelspec": {
   "display_name": "Python 3 (ipykernel)",
   "language": "python",
   "name": "python3"
  },
  "language_info": {
   "codemirror_mode": {
    "name": "ipython",
    "version": 3
   },
   "file_extension": ".py",
   "mimetype": "text/x-python",
   "name": "python",
   "nbconvert_exporter": "python",
   "pygments_lexer": "ipython3",
   "version": "3.9.7"
  }
 },
 "nbformat": 4,
 "nbformat_minor": 5
}
