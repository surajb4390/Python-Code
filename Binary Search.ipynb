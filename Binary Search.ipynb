{
 "cells": [
  {
   "cell_type": "code",
   "execution_count": 57,
   "id": "32857ec0",
   "metadata": {},
   "outputs": [
    {
     "name": "stdout",
     "output_type": "stream",
     "text": [
      "Enter a number that you want to search: 89\n",
      "Not found in given array\n"
     ]
    }
   ],
   "source": [
    "def binary_sort(arr,x):\n",
    "    lower = 0\n",
    "    upper = len(arr)-1\n",
    "\n",
    "    while  lower<=upper:\n",
    "        \n",
    "        mid = (lower+upper)//2\n",
    "        \n",
    "        if arr[mid]==x:\n",
    "             return mid\n",
    "\n",
    "        else:\n",
    "            if arr[mid]<x:\n",
    "                lower = mid\n",
    "\n",
    "            else:\n",
    "                upper = mid   \n",
    "                \n",
    "\n",
    "arr = [1,2,3,4,5,6,7,8,9,10,23,65,78,88,91,92,93,94,95,96,97,99,100]\n",
    "\n",
    "x = int(input('Enter a number that you want to search: '))\n",
    "\n",
    "\n",
    "\n",
    "if x in arr:\n",
    "    print(x,'is at index',binary_sort(arr,x))\n",
    "\n",
    "else:    \n",
    "    print('Not found in given array')        "
   ]
  },
  {
   "cell_type": "code",
   "execution_count": null,
   "id": "2e7ca9a8",
   "metadata": {},
   "outputs": [],
   "source": []
  }
 ],
 "metadata": {
  "kernelspec": {
   "display_name": "Python 3 (ipykernel)",
   "language": "python",
   "name": "python3"
  },
  "language_info": {
   "codemirror_mode": {
    "name": "ipython",
    "version": 3
   },
   "file_extension": ".py",
   "mimetype": "text/x-python",
   "name": "python",
   "nbconvert_exporter": "python",
   "pygments_lexer": "ipython3",
   "version": "3.9.7"
  }
 },
 "nbformat": 4,
 "nbformat_minor": 5
}
