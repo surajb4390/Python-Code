{
 "cells": [
  {
   "cell_type": "markdown",
   "id": "b1a43c82",
   "metadata": {},
   "source": [
    "# Sort two sorted list"
   ]
  },
  {
   "cell_type": "code",
   "execution_count": 1,
   "id": "f6c15549",
   "metadata": {},
   "outputs": [],
   "source": [
    " def merge_sort(a,b):\n",
    "    c = []\n",
    "    p = len(a)\n",
    "    q = len(b)\n",
    "    \n",
    "    i,j=0,0\n",
    "    while (i<p and j<q):\n",
    "        if a[i]<b[j]:\n",
    "            c.append(a[i])\n",
    "            i+=1\n",
    "         \n",
    "        else:\n",
    "            c.append(b[j])\n",
    "            j+=1\n",
    "            \n",
    "     \n",
    "    while (i<p):\n",
    "        c.append(a[i])\n",
    "        i+=1\n",
    "        \n",
    "    while (j<q): \n",
    "        c.append(b[j])\n",
    "        j+=1\n",
    "     \n",
    "    return c\n",
    "        "
   ]
  },
  {
   "cell_type": "code",
   "execution_count": 2,
   "id": "f07a366f",
   "metadata": {},
   "outputs": [],
   "source": [
    "a = [1,4,6,8,13,15,19]\n",
    "b = [3,5,9,12,16,22]"
   ]
  },
  {
   "cell_type": "code",
   "execution_count": 3,
   "id": "2267e709",
   "metadata": {},
   "outputs": [
    {
     "name": "stdout",
     "output_type": "stream",
     "text": [
      "After Merge Sort- [1, 3, 4, 5, 6, 8, 9, 12, 13, 15, 16, 19, 22]\n"
     ]
    }
   ],
   "source": [
    "print('After Merge Sort-',merge_sort(a,b))"
   ]
  },
  {
   "cell_type": "code",
   "execution_count": null,
   "id": "7a51adbd",
   "metadata": {},
   "outputs": [],
   "source": []
  },
  {
   "cell_type": "markdown",
   "id": "5522ad55",
   "metadata": {},
   "source": [
    "# Sort list by name and time hours"
   ]
  },
  {
   "cell_type": "code",
   "execution_count": 4,
   "id": "0538159f",
   "metadata": {},
   "outputs": [],
   "source": [
    "elements = [\n",
    "        { 'name': 'vedanth',   'age': 17, 'time_hours': 1},\n",
    "        { 'name': 'rajab', 'age': 12,  'time_hours': 3},\n",
    "        { 'name': 'vignesh',  'age': 21,  'time_hours': 2.5},\n",
    "        { 'name': 'chinmay',  'age': 24,  'time_hours': 1.5},\n",
    "    ]"
   ]
  },
  {
   "cell_type": "code",
   "execution_count": 5,
   "id": "2be4c769",
   "metadata": {},
   "outputs": [],
   "source": [
    "#Dividing list in two parts\n",
    "left = elements[0:2]\n",
    "right = elements[2:]"
   ]
  },
  {
   "cell_type": "code",
   "execution_count": 6,
   "id": "fc016da1",
   "metadata": {},
   "outputs": [],
   "source": [
    "def merge(left,right,key=0):\n",
    "    \n",
    "    p = len(left)\n",
    "    q = len(right)\n",
    "    \n",
    "    if key=='time_hours':\n",
    "    \n",
    "        #arranging right list in ascending order(time hour is not in ascending order)\n",
    "        for j in range(len(right)-1):\n",
    "\n",
    "            for i in range(len(right)-1-j):\n",
    "\n",
    "\n",
    "                if right[i]['time_hours']>right[i+1]['time_hours']:\n",
    "                    right[i]['name'],right[i+1]['name']=right[i+1]['name'],right[i]['name']\n",
    "                    right[i]['age'],right[i+1]['age']=right[i+1]['age'],right[i]['age']\n",
    "                    right[i]['time_hours'],right[i+1]['time_hours']=right[i+1]['time_hours'],right[i]['time_hours']\n",
    "                    \n",
    "    else:\n",
    "        \n",
    "        #arranging name in ascending order        \n",
    "        for j in range(len(left)-1):\n",
    "\n",
    "                for i in range(len(left)-1-j):\n",
    "\n",
    "\n",
    "                    if left[i]['name']>left[i+1]['name']:\n",
    "                        left[i]['name'],left[i+1]['name']=left[i+1]['name'],left[i]['name']\n",
    "                        left[i]['age'],left[i+1]['age']=left[i+1]['age'],left[i]['age']\n",
    "                        left[i]['time_hours'],left[i+1]['time_hours']=left[i+1]['time_hours'],left[i]['time_hours']            \n",
    "    \n",
    "    i,j=0,0\n",
    "    l = []\n",
    "    \n",
    "    while i<p and j<q:\n",
    "        if key=='name':\n",
    "            a='name'\n",
    "        else:\n",
    "            a='time_hours'\n",
    "\n",
    "        di=dict()\n",
    "        if left[i][a]<right[j][a]:\n",
    "            di['name'] = left[i]['name']\n",
    "            di['age'] =  left[i]['age']\n",
    "            di['time_hours'] = left[i]['time_hours']\n",
    "            l.append(di)\n",
    "            del di\n",
    "            i+=1\n",
    "        else:   \n",
    "            di['name'] = right[j]['name']\n",
    "            di['age'] = right[j]['age']\n",
    "            di['time_hours']=right[j]['time_hours']\n",
    "            l.append(di)\n",
    "            del di\n",
    "            j+=1\n",
    "                \n",
    "    while i<p:  \n",
    "            di=dict()\n",
    "            di['name'] = left[i]['name']\n",
    "            di['age'] = left[i]['age']\n",
    "            di['time_hours']=left[i]['time_hours']\n",
    "            l.append(di)\n",
    "            del di\n",
    "            i+=1\n",
    "                    \n",
    "    while j<q: \n",
    "            di=dict()\n",
    "            di['name'] = right[j]['name']\n",
    "            di['age'] = right[j]['age']\n",
    "            di['time_hours']=right[j]['time_hours']\n",
    "            l.append(di)\n",
    "            del di\n",
    "            j+=1\n",
    "            \n",
    "    return l    \n",
    "           "
   ]
  },
  {
   "cell_type": "code",
   "execution_count": 7,
   "id": "95558fb0",
   "metadata": {},
   "outputs": [
    {
     "name": "stdout",
     "output_type": "stream",
     "text": [
      "Sort By time hours\n"
     ]
    },
    {
     "data": {
      "text/plain": [
       "[{'name': 'vedanth', 'age': 17, 'time_hours': 1},\n",
       " {'name': 'chinmay', 'age': 24, 'time_hours': 1.5},\n",
       " {'name': 'vignesh', 'age': 21, 'time_hours': 2.5},\n",
       " {'name': 'rajab', 'age': 12, 'time_hours': 3}]"
      ]
     },
     "execution_count": 7,
     "metadata": {},
     "output_type": "execute_result"
    }
   ],
   "source": [
    "print('Sort By time hours')\n",
    "merge(left,right,key='time_hours')"
   ]
  },
  {
   "cell_type": "code",
   "execution_count": 8,
   "id": "e0f39275",
   "metadata": {},
   "outputs": [
    {
     "name": "stdout",
     "output_type": "stream",
     "text": [
      "Sort By name\n"
     ]
    },
    {
     "data": {
      "text/plain": [
       "[{'name': 'chinmay', 'age': 24, 'time_hours': 1.5},\n",
       " {'name': 'rajab', 'age': 12, 'time_hours': 3},\n",
       " {'name': 'vedanth', 'age': 17, 'time_hours': 1},\n",
       " {'name': 'vignesh', 'age': 21, 'time_hours': 2.5}]"
      ]
     },
     "execution_count": 8,
     "metadata": {},
     "output_type": "execute_result"
    }
   ],
   "source": [
    "print('Sort By name')\n",
    "merge(left,right,key='name')"
   ]
  },
  {
   "cell_type": "code",
   "execution_count": null,
   "id": "79876425",
   "metadata": {},
   "outputs": [],
   "source": []
  }
 ],
 "metadata": {
  "kernelspec": {
   "display_name": "Python 3 (ipykernel)",
   "language": "python",
   "name": "python3"
  },
  "language_info": {
   "codemirror_mode": {
    "name": "ipython",
    "version": 3
   },
   "file_extension": ".py",
   "mimetype": "text/x-python",
   "name": "python",
   "nbconvert_exporter": "python",
   "pygments_lexer": "ipython3",
   "version": "3.9.7"
  }
 },
 "nbformat": 4,
 "nbformat_minor": 5
}
