{
 "cells": [
  {
   "cell_type": "code",
   "execution_count": 1,
   "metadata": {},
   "outputs": [],
   "source": [
    "import nltk"
   ]
  },
  {
   "cell_type": "code",
   "execution_count": 2,
   "metadata": {},
   "outputs": [],
   "source": [
    "from nltk.stem import WordNetLemmatizer"
   ]
  },
  {
   "cell_type": "code",
   "execution_count": 3,
   "metadata": {},
   "outputs": [],
   "source": [
    "w = WordNetLemmatizer()"
   ]
  },
  {
   "cell_type": "code",
   "execution_count": 4,
   "metadata": {},
   "outputs": [],
   "source": [
    "text =  \"\"\"“It is hereby informed that all clients/members shall trade in the derivative contracts of said securities only to decrease their positions through offsetting positions,\" the stock exchange said. \"Any increase in open positions shall attract appropriate penal and disciplinary action,\" NSE added.\n",
    "\n",
    "The derivative contracts in the mentioned securities have crossed 95% of the market-wide position limit and are therefore have been currently put in the ban period by the stock exchange, said NSE. \n",
    "\n",
    "No fresh positions are allowed for any of the F&O contracts in that particular stock when it is under the F&O ban period. The MWPL (market-wide position limit) is set by the stock exchanges which is the maximum number of contracts that can be open at any time (Open Interest), therefore, the F&O contracts of that stock enter a ban period if the open interest crosses 95% of the MWPL.\"\"\""
   ]
  },
  {
   "cell_type": "code",
   "execution_count": 5,
   "metadata": {},
   "outputs": [
    {
     "data": {
      "text/plain": [
       "'“It is hereby informed that all clients/members shall trade in the derivative contracts of said securities only to decrease their positions through offsetting positions,\" the stock exchange said. \"Any increase in open positions shall attract appropriate penal and disciplinary action,\" NSE added.\\n\\nThe derivative contracts in the mentioned securities have crossed 95% of the market-wide position limit and are therefore have been currently put in the ban period by the stock exchange, said NSE. \\n\\nNo fresh positions are allowed for any of the F&O contracts in that particular stock when it is under the F&O ban period. The MWPL (market-wide position limit) is set by the stock exchanges which is the maximum number of contracts that can be open at any time (Open Interest), therefore, the F&O contracts of that stock enter a ban period if the open interest crosses 95% of the MWPL.'"
      ]
     },
     "execution_count": 5,
     "metadata": {},
     "output_type": "execute_result"
    }
   ],
   "source": [
    "text"
   ]
  },
  {
   "cell_type": "code",
   "execution_count": 6,
   "metadata": {},
   "outputs": [],
   "source": [
    "from nltk.corpus import stopwords"
   ]
  },
  {
   "cell_type": "code",
   "execution_count": 7,
   "metadata": {},
   "outputs": [],
   "source": [
    "sentence = nltk.sent_tokenize(text)"
   ]
  },
  {
   "cell_type": "code",
   "execution_count": 8,
   "metadata": {},
   "outputs": [],
   "source": [
    "for i in range(len(sentence)):\n",
    "    words = nltk.word_tokenize(sentence[i])\n",
    "    words = [w.lemmatize(word) for word in words if word not in set(stopwords.words('english'))]\n",
    "    sentence[i]=' '.join(words)"
   ]
  },
  {
   "cell_type": "code",
   "execution_count": 9,
   "metadata": {},
   "outputs": [
    {
     "data": {
      "text/plain": [
       "[\"“ It hereby informed clients/members shall trade derivative contract said security decrease position offsetting position , '' stock exchange said .\",\n",
       " \"`` Any increase open position shall attract appropriate penal disciplinary action , '' NSE added .\",\n",
       " 'The derivative contract mentioned security crossed 95 % market-wide position limit therefore currently put ban period stock exchange , said NSE .',\n",
       " 'No fresh position allowed F & O contract particular stock F & O ban period .',\n",
       " 'The MWPL ( market-wide position limit ) set stock exchange maximum number contract open time ( Open Interest ) , therefore , F & O contract stock enter ban period open interest cross 95 % MWPL .']"
      ]
     },
     "execution_count": 9,
     "metadata": {},
     "output_type": "execute_result"
    }
   ],
   "source": [
    "sentence"
   ]
  },
  {
   "cell_type": "code",
   "execution_count": null,
   "metadata": {},
   "outputs": [],
   "source": []
  }
 ],
 "metadata": {
  "kernelspec": {
   "display_name": "Python 3",
   "language": "python",
   "name": "python3"
  },
  "language_info": {
   "codemirror_mode": {
    "name": "ipython",
    "version": 3
   },
   "file_extension": ".py",
   "mimetype": "text/x-python",
   "name": "python",
   "nbconvert_exporter": "python",
   "pygments_lexer": "ipython3",
   "version": "3.8.5"
  }
 },
 "nbformat": 4,
 "nbformat_minor": 4
}
