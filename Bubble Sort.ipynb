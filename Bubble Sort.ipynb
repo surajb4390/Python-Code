{
 "cells": [
  {
   "cell_type": "markdown",
   "id": "05671063",
   "metadata": {},
   "source": [
    "# Sort Given List"
   ]
  },
  {
   "cell_type": "code",
   "execution_count": 1,
   "id": "08c504fd",
   "metadata": {},
   "outputs": [],
   "source": [
    "def bubble_sort(n):\n",
    "    \n",
    "    for i in range(len(n)-1):\n",
    "        \n",
    "        for j in range(len(n)-1-i):\n",
    "            \n",
    "            if n[j]>n[j+1]:\n",
    "                n[j],n[j+1]=n[j+1],n[j]\n",
    "                "
   ]
  },
  {
   "cell_type": "code",
   "execution_count": 2,
   "id": "fab5d70a",
   "metadata": {},
   "outputs": [
    {
     "name": "stdout",
     "output_type": "stream",
     "text": [
      "[0, 1, 2, 3, 4, 5, 7, 8, 9, 12, 14, 22, 23, 32, 45, 64, 67, 89, 98, 99, 100]\n"
     ]
    }
   ],
   "source": [
    "number = [2,8,1,9,4,3,5,7,12,23,89,14,0,22,67,45,32,64,98,100,99]\n",
    "bubble_sort(number)\n",
    "print(number)"
   ]
  },
  {
   "cell_type": "markdown",
   "id": "309014fe",
   "metadata": {},
   "source": [
    "# Sort given list by name and transaction amount"
   ]
  },
  {
   "cell_type": "code",
   "execution_count": 3,
   "id": "a251130b",
   "metadata": {},
   "outputs": [],
   "source": [
    "elements = [\n",
    "        { 'name': 'mona',   'transaction_amount': 1000, 'device': 'iphone-10'},\n",
    "        { 'name': 'dhaval', 'transaction_amount': 400,  'device': 'google pixel'},\n",
    "        { 'name': 'kathy',  'transaction_amount': 200,  'device': 'vivo'},\n",
    "        { 'name': 'aamir',  'transaction_amount': 800,  'device': 'iphone-8'},\n",
    "    ]"
   ]
  },
  {
   "cell_type": "code",
   "execution_count": 4,
   "id": "766fb2d0",
   "metadata": {},
   "outputs": [],
   "source": [
    "def sort_by(elements,key=None):\n",
    "    \n",
    "    for i in range(len(elements)-1):\n",
    "        \n",
    "            for j in range(len(elements)-1-i):\n",
    "                \n",
    "                \n",
    "                if key == 'transaction_amount':\n",
    "                    k='transaction_amount'\n",
    "                    l='name'\n",
    "                else:\n",
    "                    l='transaction_amount'\n",
    "                    k='name'\n",
    "                    \n",
    "                    \n",
    "                if elements[j][k]>elements[j+1][k]:\n",
    "                    elements[j][k],elements[j+1][k]=elements[j+1][k],elements[j][k]\n",
    "                    elements[j][l],elements[j+1][l]=elements[j+1][l],elements[j][l]\n",
    "                    elements[j]['device'],elements[j+1]['device']=elements[j+1]['device'],elements[j]['device']"
   ]
  },
  {
   "cell_type": "code",
   "execution_count": 5,
   "id": "87d81f8d",
   "metadata": {},
   "outputs": [
    {
     "name": "stdout",
     "output_type": "stream",
     "text": [
      "{'name': 'aamir', 'transaction_amount': 800, 'device': 'iphone-8'}\n",
      "{'name': 'dhaval', 'transaction_amount': 400, 'device': 'google pixel'}\n",
      "{'name': 'kathy', 'transaction_amount': 200, 'device': 'vivo'}\n",
      "{'name': 'mona', 'transaction_amount': 1000, 'device': 'iphone-10'}\n"
     ]
    }
   ],
   "source": [
    "#Sort by name\n",
    "sort_by(elements,key='name')\n",
    "\n",
    "for i in range(len(elements)):\n",
    "    print(elements[i])"
   ]
  },
  {
   "cell_type": "code",
   "execution_count": 6,
   "id": "1845803c",
   "metadata": {},
   "outputs": [
    {
     "name": "stdout",
     "output_type": "stream",
     "text": [
      "{'name': 'kathy', 'transaction_amount': 200, 'device': 'vivo'}\n",
      "{'name': 'dhaval', 'transaction_amount': 400, 'device': 'google pixel'}\n",
      "{'name': 'aamir', 'transaction_amount': 800, 'device': 'iphone-8'}\n",
      "{'name': 'mona', 'transaction_amount': 1000, 'device': 'iphone-10'}\n"
     ]
    }
   ],
   "source": [
    "#Sort by transaction_amount\n",
    "sort_by(elements,key='transaction_amount')\n",
    "\n",
    "for i in range(len(elements)):\n",
    "    print(elements[i])"
   ]
  },
  {
   "cell_type": "code",
   "execution_count": null,
   "id": "56024957",
   "metadata": {},
   "outputs": [],
   "source": []
  }
 ],
 "metadata": {
  "kernelspec": {
   "display_name": "Python 3 (ipykernel)",
   "language": "python",
   "name": "python3"
  },
  "language_info": {
   "codemirror_mode": {
    "name": "ipython",
    "version": 3
   },
   "file_extension": ".py",
   "mimetype": "text/x-python",
   "name": "python",
   "nbconvert_exporter": "python",
   "pygments_lexer": "ipython3",
   "version": "3.9.7"
  }
 },
 "nbformat": 4,
 "nbformat_minor": 5
}
