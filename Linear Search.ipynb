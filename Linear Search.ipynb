{
 "cells": [
  {
   "cell_type": "code",
   "execution_count": 32,
   "id": "b1d165cb",
   "metadata": {},
   "outputs": [],
   "source": [
    "def search(numbers, x):\n",
    " \n",
    "    for i in range(len(numbers)):\n",
    " \n",
    "        if numbers[i] == x:\n",
    "            return 'present at index {}'.format(i)\n",
    " \n",
    "    else:\n",
    "        return 'not present in array'\n",
    "        "
   ]
  },
  {
   "cell_type": "code",
   "execution_count": 35,
   "id": "ab405aa4",
   "metadata": {},
   "outputs": [
    {
     "name": "stdout",
     "output_type": "stream",
     "text": [
      "Enter A number: 9\n",
      "Element is  present at index 8\n"
     ]
    }
   ],
   "source": [
    "elements = [1,2,3,4,5,6,7,8,9,10]\n",
    "x = int(input('Enter A number: '))\n",
    "print('Element is ',search(elements,x))"
   ]
  },
  {
   "cell_type": "code",
   "execution_count": null,
   "id": "83d9f098",
   "metadata": {},
   "outputs": [],
   "source": []
  }
 ],
 "metadata": {
  "kernelspec": {
   "display_name": "Python 3 (ipykernel)",
   "language": "python",
   "name": "python3"
  },
  "language_info": {
   "codemirror_mode": {
    "name": "ipython",
    "version": 3
   },
   "file_extension": ".py",
   "mimetype": "text/x-python",
   "name": "python",
   "nbconvert_exporter": "python",
   "pygments_lexer": "ipython3",
   "version": "3.9.7"
  }
 },
 "nbformat": 4,
 "nbformat_minor": 5
}
