{
 "cells": [
  {
   "cell_type": "code",
   "execution_count": 1,
   "id": "2d9aeb98",
   "metadata": {},
   "outputs": [],
   "source": [
    "def check_vowels(text):\n",
    "    count=0\n",
    "    vowel = ['a','e','i','o','u']\n",
    "    \n",
    "    for i in text:\n",
    "        if i in vowel:\n",
    "            count+=1\n",
    "            \n",
    "    return count        "
   ]
  },
  {
   "cell_type": "code",
   "execution_count": 2,
   "id": "e56e14f8",
   "metadata": {},
   "outputs": [],
   "source": [
    "text = 'Suraj Baragale'"
   ]
  },
  {
   "cell_type": "code",
   "execution_count": 3,
   "id": "c28ded7f",
   "metadata": {},
   "outputs": [
    {
     "name": "stdout",
     "output_type": "stream",
     "text": [
      "The Cont of Vowels in given list is -  6\n"
     ]
    }
   ],
   "source": [
    "print('The Cont of Vowels in given list is - ',check_vowels(text))"
   ]
  },
  {
   "cell_type": "code",
   "execution_count": 4,
   "id": "463bed5c",
   "metadata": {},
   "outputs": [],
   "source": [
    "test = [\n",
    "          'India, officially the Republic of India, is a country in South Asia.',\n",
    "    \n",
    "          'India is the worlds most populous democracy.',\n",
    "    \n",
    "          ' ',\n",
    "    \n",
    "          'My name is Suraj'\n",
    "      ]"
   ]
  },
  {
   "cell_type": "code",
   "execution_count": 5,
   "id": "48e99adc",
   "metadata": {},
   "outputs": [
    {
     "name": "stdout",
     "output_type": "stream",
     "text": [
      "The Cont of Vowels in given list is -  22\n",
      "The Cont of Vowels in given list is -  13\n",
      "The Cont of Vowels in given list is -  0\n",
      "The Cont of Vowels in given list is -  5\n"
     ]
    }
   ],
   "source": [
    "for i in test:\n",
    "    print('The Cont of Vowels in given list is - ',check_vowels(i))"
   ]
  },
  {
   "cell_type": "code",
   "execution_count": null,
   "id": "06afb493",
   "metadata": {},
   "outputs": [],
   "source": []
  }
 ],
 "metadata": {
  "kernelspec": {
   "display_name": "Python 3 (ipykernel)",
   "language": "python",
   "name": "python3"
  },
  "language_info": {
   "codemirror_mode": {
    "name": "ipython",
    "version": 3
   },
   "file_extension": ".py",
   "mimetype": "text/x-python",
   "name": "python",
   "nbconvert_exporter": "python",
   "pygments_lexer": "ipython3",
   "version": "3.9.7"
  }
 },
 "nbformat": 4,
 "nbformat_minor": 5
}
