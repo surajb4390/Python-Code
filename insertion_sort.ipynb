{
 "cells": [
  {
   "cell_type": "code",
   "execution_count": 53,
   "id": "674ad073",
   "metadata": {},
   "outputs": [],
   "source": [
    "def insertion_sort(elements):\n",
    "    \n",
    "    for i in range(1,len(elements)):   \n",
    "\n",
    "        j=i\n",
    "        \n",
    "        while j>0 and elements[j-1]>elements[j]:\n",
    "            \n",
    "            elements[j-1],elements[j]=elements[j],elements[j-1]\n",
    "            \n",
    "            j-=1"
   ]
  },
  {
   "cell_type": "code",
   "execution_count": 54,
   "id": "6c884ef4",
   "metadata": {},
   "outputs": [
    {
     "name": "stdout",
     "output_type": "stream",
     "text": [
      "Before Sorting- [2, 1, 6, 3, 4, 5, 8, 9, 7, 10, 13, 15, 14, 12, 11]\n",
      "After Sorting- [1, 2, 3, 4, 5, 6, 7, 8, 9, 10, 11, 12, 13, 14, 15]\n"
     ]
    }
   ],
   "source": [
    "elements=[2,1,6,3,4,5,8,9,7,10,13,15,14,12,11]\n",
    "print('Before Sorting-',elements)\n",
    "insertion_sort(elements)\n",
    "print('After Sorting-',elements)"
   ]
  },
  {
   "cell_type": "code",
   "execution_count": null,
   "id": "e5644101",
   "metadata": {},
   "outputs": [],
   "source": []
  }
 ],
 "metadata": {
  "kernelspec": {
   "display_name": "Python 3 (ipykernel)",
   "language": "python",
   "name": "python3"
  },
  "language_info": {
   "codemirror_mode": {
    "name": "ipython",
    "version": 3
   },
   "file_extension": ".py",
   "mimetype": "text/x-python",
   "name": "python",
   "nbconvert_exporter": "python",
   "pygments_lexer": "ipython3",
   "version": "3.9.7"
  }
 },
 "nbformat": 4,
 "nbformat_minor": 5
}
