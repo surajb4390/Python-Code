{
 "cells": [
  {
   "cell_type": "code",
   "execution_count": 1,
   "id": "cd6b3c3f",
   "metadata": {},
   "outputs": [],
   "source": [
    "def selection_sort(n):\n",
    "    size = len(n)\n",
    "    \n",
    "    for i in range(size-1):\n",
    "        small = i\n",
    "        for j in range(i,size):\n",
    "            if n[j]<n[small]:\n",
    "                small=j  \n",
    "        n[i],n[small]=n[small],n[i]        \n",
    "    "
   ]
  },
  {
   "cell_type": "code",
   "execution_count": 2,
   "id": "18710798",
   "metadata": {},
   "outputs": [
    {
     "name": "stdout",
     "output_type": "stream",
     "text": [
      "Before sorting\n",
      "[1, 4, 2, 6, 3, 5, 10, 17, 7, 22, 18, 12, 9, 21]\n",
      "after sorting\n",
      "[1, 2, 3, 4, 5, 6, 7, 9, 10, 12, 17, 18, 21, 22]\n"
     ]
    }
   ],
   "source": [
    "n = [1,4,2,6,3,5,10,17,7,22,18,12,9,21]\n",
    "print('Before sorting')\n",
    "print(n)\n",
    "selection_sort(n)\n",
    "print('after sorting')\n",
    "print(n)"
   ]
  },
  {
   "cell_type": "code",
   "execution_count": null,
   "id": "afdf31f1",
   "metadata": {},
   "outputs": [],
   "source": []
  }
 ],
 "metadata": {
  "kernelspec": {
   "display_name": "Python 3 (ipykernel)",
   "language": "python",
   "name": "python3"
  },
  "language_info": {
   "codemirror_mode": {
    "name": "ipython",
    "version": 3
   },
   "file_extension": ".py",
   "mimetype": "text/x-python",
   "name": "python",
   "nbconvert_exporter": "python",
   "pygments_lexer": "ipython3",
   "version": "3.9.7"
  }
 },
 "nbformat": 4,
 "nbformat_minor": 5
}
