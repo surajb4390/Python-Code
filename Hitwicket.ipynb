{
 "cells": [
  {
   "cell_type": "code",
   "execution_count": 1,
   "id": "47fd5c27",
   "metadata": {},
   "outputs": [],
   "source": [
    "import pandas as pd"
   ]
  },
  {
   "cell_type": "markdown",
   "id": "80e37213",
   "metadata": {},
   "source": [
    "# Problem 1"
   ]
  },
  {
   "cell_type": "code",
   "execution_count": 2,
   "id": "8b73f396",
   "metadata": {},
   "outputs": [
    {
     "data": {
      "text/html": [
       "<div>\n",
       "<style scoped>\n",
       "    .dataframe tbody tr th:only-of-type {\n",
       "        vertical-align: middle;\n",
       "    }\n",
       "\n",
       "    .dataframe tbody tr th {\n",
       "        vertical-align: top;\n",
       "    }\n",
       "\n",
       "    .dataframe thead th {\n",
       "        text-align: right;\n",
       "    }\n",
       "</style>\n",
       "<table border=\"1\" class=\"dataframe\">\n",
       "  <thead>\n",
       "    <tr style=\"text-align: right;\">\n",
       "      <th></th>\n",
       "      <th>Class</th>\n",
       "      <th>Gender</th>\n",
       "      <th>Values</th>\n",
       "    </tr>\n",
       "  </thead>\n",
       "  <tbody>\n",
       "    <tr>\n",
       "      <th>0</th>\n",
       "      <td>4</td>\n",
       "      <td>Female</td>\n",
       "      <td>10</td>\n",
       "    </tr>\n",
       "    <tr>\n",
       "      <th>1</th>\n",
       "      <td>4</td>\n",
       "      <td>Male</td>\n",
       "      <td>3</td>\n",
       "    </tr>\n",
       "    <tr>\n",
       "      <th>2</th>\n",
       "      <td>5</td>\n",
       "      <td>Male</td>\n",
       "      <td>1</td>\n",
       "    </tr>\n",
       "    <tr>\n",
       "      <th>3</th>\n",
       "      <td>1</td>\n",
       "      <td>Female</td>\n",
       "      <td>5</td>\n",
       "    </tr>\n",
       "    <tr>\n",
       "      <th>4</th>\n",
       "      <td>1</td>\n",
       "      <td>Male</td>\n",
       "      <td>7</td>\n",
       "    </tr>\n",
       "    <tr>\n",
       "      <th>5</th>\n",
       "      <td>2</td>\n",
       "      <td>Female</td>\n",
       "      <td>2</td>\n",
       "    </tr>\n",
       "    <tr>\n",
       "      <th>6</th>\n",
       "      <td>5</td>\n",
       "      <td>Female</td>\n",
       "      <td>5</td>\n",
       "    </tr>\n",
       "    <tr>\n",
       "      <th>7</th>\n",
       "      <td>2</td>\n",
       "      <td>Male</td>\n",
       "      <td>10</td>\n",
       "    </tr>\n",
       "  </tbody>\n",
       "</table>\n",
       "</div>"
      ],
      "text/plain": [
       "   Class  Gender  Values\n",
       "0      4  Female      10\n",
       "1      4    Male       3\n",
       "2      5    Male       1\n",
       "3      1  Female       5\n",
       "4      1    Male       7\n",
       "5      2  Female       2\n",
       "6      5  Female       5\n",
       "7      2    Male      10"
      ]
     },
     "execution_count": 2,
     "metadata": {},
     "output_type": "execute_result"
    }
   ],
   "source": [
    "df = pd.DataFrame({'Class':[4,4,5,1,1,2,5,2],'Gender':['Female','Male','Male','Female','Male','Female','Female','Male'],\n",
    "                 'Values':[10,3,1,5,7,2,5,10]})\n"
   ]
  },
  {
   "cell_type": "markdown",
   "id": "312b5fae",
   "metadata": {},
   "source": [
    "# Problem 2"
   ]
  },
  {
   "cell_type": "code",
   "execution_count": 3,
   "id": "097b1e0d",
   "metadata": {},
   "outputs": [
    {
     "data": {
      "text/html": [
       "<div>\n",
       "<style scoped>\n",
       "    .dataframe tbody tr th:only-of-type {\n",
       "        vertical-align: middle;\n",
       "    }\n",
       "\n",
       "    .dataframe tbody tr th {\n",
       "        vertical-align: top;\n",
       "    }\n",
       "\n",
       "    .dataframe thead th {\n",
       "        text-align: right;\n",
       "    }\n",
       "</style>\n",
       "<table border=\"1\" class=\"dataframe\">\n",
       "  <thead>\n",
       "    <tr style=\"text-align: right;\">\n",
       "      <th></th>\n",
       "      <th>Class</th>\n",
       "      <th>Gender</th>\n",
       "      <th>Values</th>\n",
       "    </tr>\n",
       "  </thead>\n",
       "  <tbody>\n",
       "    <tr>\n",
       "      <th>3</th>\n",
       "      <td>1</td>\n",
       "      <td>Female</td>\n",
       "      <td>5</td>\n",
       "    </tr>\n",
       "    <tr>\n",
       "      <th>4</th>\n",
       "      <td>1</td>\n",
       "      <td>Male</td>\n",
       "      <td>7</td>\n",
       "    </tr>\n",
       "    <tr>\n",
       "      <th>5</th>\n",
       "      <td>2</td>\n",
       "      <td>Female</td>\n",
       "      <td>2</td>\n",
       "    </tr>\n",
       "    <tr>\n",
       "      <th>7</th>\n",
       "      <td>2</td>\n",
       "      <td>Male</td>\n",
       "      <td>10</td>\n",
       "    </tr>\n",
       "    <tr>\n",
       "      <th>0</th>\n",
       "      <td>4</td>\n",
       "      <td>Female</td>\n",
       "      <td>10</td>\n",
       "    </tr>\n",
       "    <tr>\n",
       "      <th>1</th>\n",
       "      <td>4</td>\n",
       "      <td>Male</td>\n",
       "      <td>3</td>\n",
       "    </tr>\n",
       "    <tr>\n",
       "      <th>2</th>\n",
       "      <td>5</td>\n",
       "      <td>Male</td>\n",
       "      <td>1</td>\n",
       "    </tr>\n",
       "    <tr>\n",
       "      <th>6</th>\n",
       "      <td>5</td>\n",
       "      <td>Female</td>\n",
       "      <td>5</td>\n",
       "    </tr>\n",
       "  </tbody>\n",
       "</table>\n",
       "</div>"
      ],
      "text/plain": [
       "   Class  Gender  Values\n",
       "3      1  Female       5\n",
       "4      1    Male       7\n",
       "5      2  Female       2\n",
       "7      2    Male      10\n",
       "0      4  Female      10\n",
       "1      4    Male       3\n",
       "2      5    Male       1\n",
       "6      5  Female       5"
      ]
     },
     "execution_count": 3,
     "metadata": {},
     "output_type": "execute_result"
    }
   ],
   "source": [
    "asc_df = df.sort_values('Class')\n",
    "asc_df"
   ]
  },
  {
   "cell_type": "code",
   "execution_count": 4,
   "id": "f8d36322",
   "metadata": {},
   "outputs": [
    {
     "data": {
      "text/html": [
       "<div>\n",
       "<style scoped>\n",
       "    .dataframe tbody tr th:only-of-type {\n",
       "        vertical-align: middle;\n",
       "    }\n",
       "\n",
       "    .dataframe tbody tr th {\n",
       "        vertical-align: top;\n",
       "    }\n",
       "\n",
       "    .dataframe thead th {\n",
       "        text-align: right;\n",
       "    }\n",
       "</style>\n",
       "<table border=\"1\" class=\"dataframe\">\n",
       "  <thead>\n",
       "    <tr style=\"text-align: right;\">\n",
       "      <th></th>\n",
       "      <th>Class</th>\n",
       "      <th>Gender</th>\n",
       "      <th>Values</th>\n",
       "    </tr>\n",
       "  </thead>\n",
       "  <tbody>\n",
       "    <tr>\n",
       "      <th>0</th>\n",
       "      <td>4</td>\n",
       "      <td>Female</td>\n",
       "      <td>10</td>\n",
       "    </tr>\n",
       "    <tr>\n",
       "      <th>7</th>\n",
       "      <td>2</td>\n",
       "      <td>Male</td>\n",
       "      <td>10</td>\n",
       "    </tr>\n",
       "    <tr>\n",
       "      <th>4</th>\n",
       "      <td>1</td>\n",
       "      <td>Male</td>\n",
       "      <td>7</td>\n",
       "    </tr>\n",
       "    <tr>\n",
       "      <th>3</th>\n",
       "      <td>1</td>\n",
       "      <td>Female</td>\n",
       "      <td>5</td>\n",
       "    </tr>\n",
       "    <tr>\n",
       "      <th>6</th>\n",
       "      <td>5</td>\n",
       "      <td>Female</td>\n",
       "      <td>5</td>\n",
       "    </tr>\n",
       "    <tr>\n",
       "      <th>1</th>\n",
       "      <td>4</td>\n",
       "      <td>Male</td>\n",
       "      <td>3</td>\n",
       "    </tr>\n",
       "    <tr>\n",
       "      <th>5</th>\n",
       "      <td>2</td>\n",
       "      <td>Female</td>\n",
       "      <td>2</td>\n",
       "    </tr>\n",
       "    <tr>\n",
       "      <th>2</th>\n",
       "      <td>5</td>\n",
       "      <td>Male</td>\n",
       "      <td>1</td>\n",
       "    </tr>\n",
       "  </tbody>\n",
       "</table>\n",
       "</div>"
      ],
      "text/plain": [
       "   Class  Gender  Values\n",
       "0      4  Female      10\n",
       "7      2    Male      10\n",
       "4      1    Male       7\n",
       "3      1  Female       5\n",
       "6      5  Female       5\n",
       "1      4    Male       3\n",
       "5      2  Female       2\n",
       "2      5    Male       1"
      ]
     },
     "execution_count": 4,
     "metadata": {},
     "output_type": "execute_result"
    }
   ],
   "source": [
    "desc_df = df.sort_values('Values',ascending=False)\n",
    "desc_df"
   ]
  },
  {
   "cell_type": "markdown",
   "id": "774a3c73",
   "metadata": {},
   "source": [
    "# Problem 3"
   ]
  },
  {
   "cell_type": "code",
   "execution_count": 5,
   "id": "67e5857b",
   "metadata": {},
   "outputs": [
    {
     "data": {
      "text/plain": [
       "4    2\n",
       "5    2\n",
       "1    2\n",
       "2    2\n",
       "Name: Class, dtype: int64"
      ]
     },
     "execution_count": 5,
     "metadata": {},
     "output_type": "execute_result"
    }
   ],
   "source": [
    "df.Class.value_counts()"
   ]
  },
  {
   "cell_type": "code",
   "execution_count": 6,
   "id": "6b8cd011",
   "metadata": {},
   "outputs": [
    {
     "data": {
      "text/plain": [
       "Female    4\n",
       "Male      4\n",
       "Name: Gender, dtype: int64"
      ]
     },
     "execution_count": 6,
     "metadata": {},
     "output_type": "execute_result"
    }
   ],
   "source": [
    "df.Gender.value_counts()"
   ]
  },
  {
   "cell_type": "markdown",
   "id": "7cf1c6b4",
   "metadata": {},
   "source": [
    "# problem 4"
   ]
  },
  {
   "cell_type": "code",
   "execution_count": 7,
   "id": "2134d3ea",
   "metadata": {},
   "outputs": [],
   "source": [
    "import seaborn as sns"
   ]
  },
  {
   "cell_type": "code",
   "execution_count": 8,
   "id": "b30b298a",
   "metadata": {},
   "outputs": [
    {
     "data": {
      "text/plain": [
       "<AxesSubplot:xlabel='Class', ylabel='Values'>"
      ]
     },
     "execution_count": 8,
     "metadata": {},
     "output_type": "execute_result"
    },
    {
     "data": {
      "image/png": "[encoded data removed]",
      "text/plain": [
       "<Figure size 432x288 with 1 Axes>"
      ]
     },
     "metadata": {
      "needs_background": "light"
     },
     "output_type": "display_data"
    }
   ],
   "source": [
    "sns.scatterplot(x=df.Class,y=df.Values,hue=df.Gender)"
   ]
  },
  {
   "cell_type": "markdown",
   "id": "f2cf03fb",
   "metadata": {},
   "source": [
    "# Problem 5"
   ]
  },
  {
   "cell_type": "code",
   "execution_count": 28,
   "id": "c10af5f3",
   "metadata": {},
   "outputs": [],
   "source": [
    "\n",
    "unique=sorted(df.Class.unique())\n",
    "            "
   ]
  },
  {
   "cell_type": "code",
   "execution_count": 29,
   "id": "8e277aa7",
   "metadata": {},
   "outputs": [],
   "source": [
    "Male=[]\n",
    "Female=[]\n",
    "for i, j in asc_df.iterrows():\n",
    "    if j[0]==1 and j[1]=='Female':\n",
    "        Female.append(j[2])\n",
    "    elif j[0]==1 and j[1]=='Male':\n",
    "        Male.append(j[2])\n",
    "    elif j[0]==2 and j[1]=='Female':\n",
    "        Female.append(j[2])\n",
    "    elif j[0]==2 and j[1]=='Male':\n",
    "        Male.append(j[2]) \n",
    "    elif j[0]==4 and j[1]=='Female':\n",
    "        Female.append(j[2])\n",
    "    elif j[0]==4 and j[1]=='Male':\n",
    "        Male.append(j[2])\n",
    "    elif j[0]==5 and j[1]=='Female':\n",
    "        Female.append(j[2])\n",
    "    elif j[0]==5 and j[1]=='Male':\n",
    "        Male.append(j[2])    "
   ]
  },
  {
   "cell_type": "code",
   "execution_count": 31,
   "id": "14b108db",
   "metadata": {},
   "outputs": [
    {
     "data": {
      "text/html": [
       "<div>\n",
       "<style scoped>\n",
       "    .dataframe tbody tr th:only-of-type {\n",
       "        vertical-align: middle;\n",
       "    }\n",
       "\n",
       "    .dataframe tbody tr th {\n",
       "        vertical-align: top;\n",
       "    }\n",
       "\n",
       "    .dataframe thead th {\n",
       "        text-align: right;\n",
       "    }\n",
       "</style>\n",
       "<table border=\"1\" class=\"dataframe\">\n",
       "  <thead>\n",
       "    <tr style=\"text-align: right;\">\n",
       "      <th></th>\n",
       "      <th>Class</th>\n",
       "      <th>Male</th>\n",
       "      <th>Female</th>\n",
       "    </tr>\n",
       "  </thead>\n",
       "  <tbody>\n",
       "    <tr>\n",
       "      <th>0</th>\n",
       "      <td>1</td>\n",
       "      <td>7</td>\n",
       "      <td>5</td>\n",
       "    </tr>\n",
       "    <tr>\n",
       "      <th>1</th>\n",
       "      <td>2</td>\n",
       "      <td>10</td>\n",
       "      <td>2</td>\n",
       "    </tr>\n",
       "    <tr>\n",
       "      <th>2</th>\n",
       "      <td>4</td>\n",
       "      <td>3</td>\n",
       "      <td>10</td>\n",
       "    </tr>\n",
       "    <tr>\n",
       "      <th>3</th>\n",
       "      <td>5</td>\n",
       "      <td>1</td>\n",
       "      <td>5</td>\n",
       "    </tr>\n",
       "  </tbody>\n",
       "</table>\n",
       "</div>"
      ],
      "text/plain": [
       "   Class  Male  Female\n",
       "0      1     7       5\n",
       "1      2    10       2\n",
       "2      4     3      10\n",
       "3      5     1       5"
      ]
     },
     "execution_count": 31,
     "metadata": {},
     "output_type": "execute_result"
    }
   ],
   "source": [
    "new_df = pd.DataFrame({'Class':unique,'Male':Male,'Female':Female})\n",
    "new_df"
   ]
  },
  {
   "cell_type": "code",
   "execution_count": 12,
   "id": "6f23406f",
   "metadata": {},
   "outputs": [
    {
     "data": {
      "text/html": [
       "<div>\n",
       "<style scoped>\n",
       "    .dataframe tbody tr th:only-of-type {\n",
       "        vertical-align: middle;\n",
       "    }\n",
       "\n",
       "    .dataframe tbody tr th {\n",
       "        vertical-align: top;\n",
       "    }\n",
       "\n",
       "    .dataframe thead th {\n",
       "        text-align: right;\n",
       "    }\n",
       "</style>\n",
       "<table border=\"1\" class=\"dataframe\">\n",
       "  <thead>\n",
       "    <tr style=\"text-align: right;\">\n",
       "      <th></th>\n",
       "      <th>Class</th>\n",
       "      <th>Male</th>\n",
       "      <th>Female</th>\n",
       "    </tr>\n",
       "  </thead>\n",
       "  <tbody>\n",
       "    <tr>\n",
       "      <th>0</th>\n",
       "      <td>1</td>\n",
       "      <td>7</td>\n",
       "      <td>5</td>\n",
       "    </tr>\n",
       "    <tr>\n",
       "      <th>1</th>\n",
       "      <td>2</td>\n",
       "      <td>10</td>\n",
       "      <td>2</td>\n",
       "    </tr>\n",
       "    <tr>\n",
       "      <th>2</th>\n",
       "      <td>4</td>\n",
       "      <td>3</td>\n",
       "      <td>10</td>\n",
       "    </tr>\n",
       "    <tr>\n",
       "      <th>3</th>\n",
       "      <td>5</td>\n",
       "      <td>1</td>\n",
       "      <td>5</td>\n",
       "    </tr>\n",
       "  </tbody>\n",
       "</table>\n",
       "</div>"
      ],
      "text/plain": [
       "   Class  Male  Female\n",
       "0      1     7       5\n",
       "1      2    10       2\n",
       "2      4     3      10\n",
       "3      5     1       5"
      ]
     },
     "execution_count": 12,
     "metadata": {},
     "output_type": "execute_result"
    }
   ],
   "source": [
    "new_df = new_df.sort_values('Class')\n",
    "new_df"
   ]
  },
  {
   "cell_type": "code",
   "execution_count": 13,
   "id": "5abd5a3a",
   "metadata": {},
   "outputs": [],
   "source": [
    "table_to_plot = pd.DataFrame({'Category':[1,1,2,2,3,3,4,4,5,5,6,6,7,7,8,8,9,9]})"
   ]
  },
  {
   "cell_type": "code",
   "execution_count": 14,
   "id": "321d3712",
   "metadata": {},
   "outputs": [],
   "source": [
    "table_to_plot['x_variable'] = [1900,1590,995,1100,800,1000,1160,1320,900,1200,1400,1650,1500,1700,1350,1550,800,990]"
   ]
  },
  {
   "cell_type": "code",
   "execution_count": 15,
   "id": "b4c03a5c",
   "metadata": {},
   "outputs": [],
   "source": [
    "table_to_plot['y_variable'] = [1770,1875,900,1200,850,1100,1100,1400,950,1150,1350,1650,1450,1800,1300,1600,850,1100]"
   ]
  },
  {
   "cell_type": "code",
   "execution_count": 16,
   "id": "a0d3a88c",
   "metadata": {},
   "outputs": [
    {
     "data": {
      "text/html": [
       "<div>\n",
       "<style scoped>\n",
       "    .dataframe tbody tr th:only-of-type {\n",
       "        vertical-align: middle;\n",
       "    }\n",
       "\n",
       "    .dataframe tbody tr th {\n",
       "        vertical-align: top;\n",
       "    }\n",
       "\n",
       "    .dataframe thead th {\n",
       "        text-align: right;\n",
       "    }\n",
       "</style>\n",
       "<table border=\"1\" class=\"dataframe\">\n",
       "  <thead>\n",
       "    <tr style=\"text-align: right;\">\n",
       "      <th></th>\n",
       "      <th>Category</th>\n",
       "      <th>x_variable</th>\n",
       "      <th>y_variable</th>\n",
       "    </tr>\n",
       "  </thead>\n",
       "  <tbody>\n",
       "    <tr>\n",
       "      <th>0</th>\n",
       "      <td>1</td>\n",
       "      <td>1900</td>\n",
       "      <td>1770</td>\n",
       "    </tr>\n",
       "    <tr>\n",
       "      <th>1</th>\n",
       "      <td>1</td>\n",
       "      <td>1590</td>\n",
       "      <td>1875</td>\n",
       "    </tr>\n",
       "    <tr>\n",
       "      <th>2</th>\n",
       "      <td>2</td>\n",
       "      <td>995</td>\n",
       "      <td>900</td>\n",
       "    </tr>\n",
       "    <tr>\n",
       "      <th>3</th>\n",
       "      <td>2</td>\n",
       "      <td>1100</td>\n",
       "      <td>1200</td>\n",
       "    </tr>\n",
       "    <tr>\n",
       "      <th>4</th>\n",
       "      <td>3</td>\n",
       "      <td>800</td>\n",
       "      <td>850</td>\n",
       "    </tr>\n",
       "    <tr>\n",
       "      <th>5</th>\n",
       "      <td>3</td>\n",
       "      <td>1000</td>\n",
       "      <td>1100</td>\n",
       "    </tr>\n",
       "    <tr>\n",
       "      <th>6</th>\n",
       "      <td>4</td>\n",
       "      <td>1160</td>\n",
       "      <td>1100</td>\n",
       "    </tr>\n",
       "    <tr>\n",
       "      <th>7</th>\n",
       "      <td>4</td>\n",
       "      <td>1320</td>\n",
       "      <td>1400</td>\n",
       "    </tr>\n",
       "    <tr>\n",
       "      <th>8</th>\n",
       "      <td>5</td>\n",
       "      <td>900</td>\n",
       "      <td>950</td>\n",
       "    </tr>\n",
       "    <tr>\n",
       "      <th>9</th>\n",
       "      <td>5</td>\n",
       "      <td>1200</td>\n",
       "      <td>1150</td>\n",
       "    </tr>\n",
       "    <tr>\n",
       "      <th>10</th>\n",
       "      <td>6</td>\n",
       "      <td>1400</td>\n",
       "      <td>1350</td>\n",
       "    </tr>\n",
       "    <tr>\n",
       "      <th>11</th>\n",
       "      <td>6</td>\n",
       "      <td>1650</td>\n",
       "      <td>1650</td>\n",
       "    </tr>\n",
       "    <tr>\n",
       "      <th>12</th>\n",
       "      <td>7</td>\n",
       "      <td>1500</td>\n",
       "      <td>1450</td>\n",
       "    </tr>\n",
       "    <tr>\n",
       "      <th>13</th>\n",
       "      <td>7</td>\n",
       "      <td>1700</td>\n",
       "      <td>1800</td>\n",
       "    </tr>\n",
       "    <tr>\n",
       "      <th>14</th>\n",
       "      <td>8</td>\n",
       "      <td>1350</td>\n",
       "      <td>1300</td>\n",
       "    </tr>\n",
       "    <tr>\n",
       "      <th>15</th>\n",
       "      <td>8</td>\n",
       "      <td>1550</td>\n",
       "      <td>1600</td>\n",
       "    </tr>\n",
       "    <tr>\n",
       "      <th>16</th>\n",
       "      <td>9</td>\n",
       "      <td>800</td>\n",
       "      <td>850</td>\n",
       "    </tr>\n",
       "    <tr>\n",
       "      <th>17</th>\n",
       "      <td>9</td>\n",
       "      <td>990</td>\n",
       "      <td>1100</td>\n",
       "    </tr>\n",
       "  </tbody>\n",
       "</table>\n",
       "</div>"
      ],
      "text/plain": [
       "    Category  x_variable  y_variable\n",
       "0          1        1900        1770\n",
       "1          1        1590        1875\n",
       "2          2         995         900\n",
       "3          2        1100        1200\n",
       "4          3         800         850\n",
       "5          3        1000        1100\n",
       "6          4        1160        1100\n",
       "7          4        1320        1400\n",
       "8          5         900         950\n",
       "9          5        1200        1150\n",
       "10         6        1400        1350\n",
       "11         6        1650        1650\n",
       "12         7        1500        1450\n",
       "13         7        1700        1800\n",
       "14         8        1350        1300\n",
       "15         8        1550        1600\n",
       "16         9         800         850\n",
       "17         9         990        1100"
      ]
     },
     "execution_count": 16,
     "metadata": {},
     "output_type": "execute_result"
    }
   ],
   "source": [
    "table_to_plot"
   ]
  },
  {
   "cell_type": "code",
   "execution_count": 20,
   "id": "83159313",
   "metadata": {},
   "outputs": [],
   "source": [
    "import numpy as np"
   ]
  },
  {
   "cell_type": "code",
   "execution_count": 17,
   "id": "792c559e",
   "metadata": {
    "scrolled": true
   },
   "outputs": [
    {
     "data": {
      "text/plain": [
       "LinearRegression()"
      ]
     },
     "execution_count": 17,
     "metadata": {},
     "output_type": "execute_result"
    }
   ],
   "source": [
    "from sklearn.linear_model import LinearRegression\n",
    "model = LinearRegression()\n",
    "model.fit(table_to_plot[['x_variable']],table_to_plot['y_variable'])"
   ]
  },
  {
   "cell_type": "code",
   "execution_count": 21,
   "id": "df97d62a",
   "metadata": {},
   "outputs": [],
   "source": [
    "from matplotlib import style\n",
    "style.use(\"ggplot\")\n",
    "plt.figure(figsize=(14,14))\n",
    "plt.subplot(3,3,1)\n",
    "X = np.random.randint(1590,1900,10)\n",
    "plt.scatter(x=X,y=np.random.randint(1770,1875,10))\n",
    "plt.plot(X,model.coef_*X+model.intercept_)\n",
    "plt.title(1)\n",
    "\n",
    "plt.subplot(332)\n",
    "X=np.random.randint(995,1100,10)\n",
    "plt.scatter(x=X,y=np.random.randint(900,1200,10))\n",
    "plt.plot(X,model.coef_*X+model.intercept_)\n",
    "plt.title(2)\n",
    "\n",
    "plt.subplot(333)\n",
    "X = np.random.randint(800,1000,10)\n",
    "plt.scatter(x=X,y=np.random.randint(850,1100,10))\n",
    "plt.plot(X,model.coef_*X+model.intercept_)\n",
    "plt.title(3)\n",
    "\n",
    "plt.subplot(334)\n",
    "X = np.random.randint(1160,1320,10)\n",
    "plt.scatter(x=X,y=np.random.randint(1100,1400,10))\n",
    "plt.plot(X,model.coef_*X+model.intercept_)\n",
    "plt.title(4)\n",
    "plt.ylabel('y_variable',fontsize=15)\n",
    "plt.subplot(335)\n",
    "X=np.random.randint(900,1200,10)\n",
    "plt.scatter(x=X,y=np.random.randint(950,1150,10))\n",
    "plt.plot(X,model.coef_*X+model.intercept_)\n",
    "plt.title(5)\n",
    "\n",
    "plt.subplot(336)\n",
    "X = np.random.randint(800,1000,10)\n",
    "plt.scatter(x=X,y=np.random.randint(850,1100,10))\n",
    "plt.plot(X,model.coef_*X+model.intercept_)\n",
    "plt.title(6)\n",
    "\n",
    "plt.subplot(337)\n",
    "X = np.random.randint(1500,1700,10)\n",
    "plt.scatter(x=X,y=np.random.randint(1450,1800,10))\n",
    "plt.plot(X,model.coef_*X+model.intercept_)\n",
    "plt.title(7)\n",
    "\n",
    "plt.subplot(338)\n",
    "X=np.random.randint(1350,1550,10)\n",
    "plt.scatter(x=X,y=np.random.randint(1300,1600,10))\n",
    "plt.plot(X,model.coef_*X+model.intercept_)\n",
    "plt.title(8)\n",
    "plt.xlabel('x_variable',fontsize=15)\n",
    "\n",
    "plt.subplot(339)\n",
    "X=np.random.randint(800,990,10)\n",
    "plt.scatter(x=X,y=np.random.randint(850,1100,10))\n",
    "plt.plot(X,model.coef_*X+model.intercept_)\n",
    "plt.title(9)\n",
    "\n"
   ]
  },
  {
   "cell_type": "code",
   "execution_count": 27,
   "id": "631e6985",
   "metadata": {},
   "outputs": [
    {
     "data": {
      "text/plain": [
       "Text(0.5, 1.0, '9')"
      ]
     },
     "execution_count": 27,
     "metadata": {},
     "output_type": "execute_result"
    },
    {
     "data": {
      "image/png": "[encoded data removed]",
      "text/plain": [
       "<Figure size 1008x1008 with 9 Axes>"
      ]
     },
     "metadata": {},
     "output_type": "display_data"
    }
   ],
   "source": [
    "from matplotlib import style\n",
    "style.use(\"ggplot\")\n",
    "plt.figure(figsize=(14,14))\n",
    "plt.subplot(3,3,1)\n",
    "X = np.random.randint(1590,1900,10)\n",
    "plt.scatter(x=X,y=np.random.randint(1770,1875,10))\n",
    "plt.plot(X,model.coef_*X+model.intercept_)\n",
    "plt.title(1)\n",
    "\n",
    "plt.subplot(332)\n",
    "X=np.random.randint(995,1100,10)\n",
    "plt.scatter(x=X,y=np.random.randint(900,1200,10))\n",
    "plt.plot(X,model.coef_*X+model.intercept_)\n",
    "plt.title(2)\n",
    "\n",
    "plt.subplot(333)\n",
    "X = np.random.randint(800,1000,10)\n",
    "plt.scatter(x=X,y=np.random.randint(850,1100,10))\n",
    "plt.plot(X,model.coef_*X+model.intercept_)\n",
    "plt.title(3)\n",
    "\n",
    "plt.subplot(334)\n",
    "X = np.random.randint(1160,1320,10)\n",
    "plt.scatter(x=X,y=np.random.randint(1100,1400,10))\n",
    "plt.plot(X,model.coef_*X+model.intercept_)\n",
    "plt.title(4)\n",
    "plt.ylabel('y_variable',fontsize=15)\n",
    "plt.subplot(335)\n",
    "X=np.random.randint(900,1200,10)\n",
    "plt.scatter(x=X,y=np.random.randint(950,1150,10))\n",
    "plt.plot(X,model.coef_*X+model.intercept_)\n",
    "plt.title(5)\n",
    "\n",
    "plt.subplot(336)\n",
    "X = np.random.randint(800,1000,10)\n",
    "plt.scatter(x=X,y=np.random.randint(850,1100,10))\n",
    "plt.plot(X,model.coef_*X+model.intercept_)\n",
    "plt.title(6)\n",
    "\n",
    "plt.subplot(337)\n",
    "X = np.random.randint(1500,1700,10)\n",
    "plt.scatter(x=X,y=np.random.randint(1450,1800,10))\n",
    "plt.plot(X,model.coef_*X+model.intercept_)\n",
    "plt.title(7)\n",
    "\n",
    "plt.subplot(338)\n",
    "X=np.random.randint(1350,1550,10)\n",
    "plt.scatter(x=X,y=np.random.randint(1300,1600,10))\n",
    "plt.plot(X,model.coef_*X+model.intercept_)\n",
    "plt.title(8)\n",
    "plt.xlabel('x_variable',fontsize=15)\n",
    "\n",
    "plt.subplot(339)\n",
    "X=np.random.randint(800,990,10)\n",
    "plt.scatter(x=X,y=np.random.randint(850,1100,10))\n",
    "plt.plot(X,model.coef_*X+model.intercept_)\n",
    "plt.title(9)\n",
    "\n"
   ]
  },
  {
   "cell_type": "code",
   "execution_count": null,
   "id": "2d854e54",
   "metadata": {},
   "outputs": [],
   "source": []
  }
 ],
 "metadata": {
  "kernelspec": {
   "display_name": "Python 3 (ipykernel)",
   "language": "python",
   "name": "python3"
  },
  "language_info": {
   "codemirror_mode": {
    "name": "ipython",
    "version": 3
   },
   "file_extension": ".py",
   "mimetype": "text/x-python",
   "name": "python",
   "nbconvert_exporter": "python",
   "pygments_lexer": "ipython3",
   "version": "3.9.7"
  }
 },
 "nbformat": 4,
 "nbformat_minor": 5
}
