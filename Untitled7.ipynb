{
 "cells": [
  {
   "cell_type": "code",
   "execution_count": 1,
   "id": "4053f310",
   "metadata": {},
   "outputs": [],
   "source": [
    "def number_guess(num,entered_num):\n",
    "    \n",
    "        \n",
    "        if num==entered_num:\n",
    "            return 1\n",
    "            \n",
    "        else:\n",
    "            return 0\n",
    "\n",
    "        \n",
    "        "
   ]
  },
  {
   "cell_type": "code",
   "execution_count": 2,
   "id": "c920a48e",
   "metadata": {},
   "outputs": [
    {
     "name": "stdout",
     "output_type": "stream",
     "text": [
      "\n",
      "You have 3 chances remaining\n",
      "Enter A number between 1 to 10 : 1\n",
      "Wrong\n",
      "\n",
      "You have 2 chances remaining\n",
      "Enter A number between 1 to 10 : 2\n",
      "Wrong\n",
      "\n",
      "You have 1 chances remaining\n",
      "Enter A number between 1 to 10 : 3\n",
      "Correct\n",
      "You win\n"
     ]
    }
   ],
   "source": [
    "import numpy as np\n",
    "\n",
    "num = np.random.randint(1,10,1)\n",
    "choice = 3\n",
    "\n",
    "while choice!=0:\n",
    "    print()\n",
    "    print('You have',choice,'chances remaining')\n",
    "    n = int(input('Enter A number between 1 to 10 : '))\n",
    "    a=number_guess(num,n)\n",
    "    \n",
    "    if a==1:\n",
    "        print('Correct')\n",
    "        print('You win')\n",
    "        break\n",
    "    else:\n",
    "        print('Wrong')\n",
    "    choice-=1\n",
    "    \n",
    "if choice==0:    \n",
    "    print('You Lost')    \n",
    "        "
   ]
  },
  {
   "cell_type": "code",
   "execution_count": null,
   "id": "7a306e24",
   "metadata": {},
   "outputs": [],
   "source": []
  }
 ],
 "metadata": {
  "kernelspec": {
   "display_name": "Python 3 (ipykernel)",
   "language": "python",
   "name": "python3"
  },
  "language_info": {
   "codemirror_mode": {
    "name": "ipython",
    "version": 3
   },
   "file_extension": ".py",
   "mimetype": "text/x-python",
   "name": "python",
   "nbconvert_exporter": "python",
   "pygments_lexer": "ipython3",
   "version": "3.9.7"
  }
 },
 "nbformat": 4,
 "nbformat_minor": 5
}
